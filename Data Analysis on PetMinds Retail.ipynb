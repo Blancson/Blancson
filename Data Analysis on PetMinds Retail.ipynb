{
 "cells": [
  {
   "cell_type": "code",
   "execution_count": 1,
   "id": "7ea057ec",
   "metadata": {
    "_cell_guid": "b1076dfc-b9ad-4769-8c92-a6c4dae69d19",
    "_uuid": "8f2839f25d086af736a60e9eeb907d3b93b6e0e5",
    "execution": {
     "iopub.execute_input": "2023-07-24T18:12:16.309453Z",
     "iopub.status.busy": "2023-07-24T18:12:16.308572Z",
     "iopub.status.idle": "2023-07-24T18:12:16.334229Z",
     "shell.execute_reply": "2023-07-24T18:12:16.333024Z"
    },
    "papermill": {
     "duration": 0.042313,
     "end_time": "2023-07-24T18:12:16.336946",
     "exception": false,
     "start_time": "2023-07-24T18:12:16.294633",
     "status": "completed"
    },
    "tags": []
   },
   "outputs": [
    {
     "name": "stdout",
     "output_type": "stream",
     "text": [
      "/kaggle/input/pet-supplies/pet_supplies_2212.csv\n"
     ]
    }
   ],
   "source": [
    "# This Python 3 environment comes with many helpful analytics libraries installed\n",
    "# It is defined by the kaggle/python Docker image: https://github.com/kaggle/docker-python\n",
    "# For example, here's several helpful packages to load\n",
    "\n",
    "import numpy as np # linear algebra\n",
    "import pandas as pd # data processing, CSV file I/O (e.g. pd.read_csv)\n",
    "\n",
    "# Input data files are available in the read-only \"../input/\" directory\n",
    "# For example, running this (by clicking run or pressing Shift+Enter) will list all files under the input directory\n",
    "\n",
    "import os\n",
    "for dirname, _, filenames in os.walk('/kaggle/input/pet-supplies/'):\n",
    "    for filename in filenames:\n",
    "        print(os.path.join(dirname, filename))\n",
    "\n",
    "# You can write up to 20GB to the current directory (/kaggle/working/) that gets preserved as output when you create a version using \"Save & Run All\" \n",
    "# You can also write temporary files to /kaggle/temp/, but they won't be saved outside of the current session"
   ]
  },
  {
   "cell_type": "markdown",
   "id": "c92a3f3e",
   "metadata": {
    "papermill": {
     "duration": 0.01138,
     "end_time": "2023-07-24T18:12:16.360583",
     "exception": false,
     "start_time": "2023-07-24T18:12:16.349203",
     "status": "completed"
    },
    "tags": []
   },
   "source": [
    "### This Project covers the following\n",
    "1. Data Description\n",
    "2. DataSet\n",
    "3. Data Wrangling\n",
    "4. Data Exploratory Analysis"
   ]
  },
  {
   "cell_type": "markdown",
   "id": "01319fd8",
   "metadata": {
    "papermill": {
     "duration": 0.011256,
     "end_time": "2023-07-24T18:12:16.383580",
     "exception": false,
     "start_time": "2023-07-24T18:12:16.372324",
     "status": "completed"
    },
    "tags": []
   },
   "source": [
    "PetMind is a retailer of products for pets. They are based in the United States. PetMind sells products that are a mix of luxury items and everyday items. Luxury items include toys. Everyday items include food.\n",
    "\n",
    "The company wants to increase sales by selling more everyday products repeatedly. They have been testing this approach for the last year.They now want a report on how repeat purchases impact sales."
   ]
  },
  {
   "cell_type": "markdown",
   "id": "cf171994",
   "metadata": {
    "papermill": {
     "duration": 0.011462,
     "end_time": "2023-07-24T18:12:16.406740",
     "exception": false,
     "start_time": "2023-07-24T18:12:16.395278",
     "status": "completed"
    },
    "tags": []
   },
   "source": [
    "### DataSet Description\n",
    "\n",
    "The dataset contains the sales records in the stores last year.\n",
    "The dataset can be downloaded from here.\n",
    "Column Name Criteria\n",
    "\n",
    "***product_id*** - The unique identifier of the product.\n",
    "\n",
    "***category*** - The category of the product, one of 6 values                       (Housing, Food, Toys, Equipment, Medicine,                            Accessory).\n",
    "\n",
    "***animal*** - The type of animal the product is for. One of Dog,                  Cat, Fish, Bird.\n",
    "\n",
    "***size*** - The size of animal the product is for. Small, Medium,\n",
    "              Large.\n",
    "\n",
    "***price*** - The price the product is sold at. Can be any positive\n",
    "              value, round to 2 decimal places.\n",
    "\n",
    "***sales*** - The value of all sales of the product in the last                    year. This can be any positive value, rounded to 2                  decimal places\n",
    "\n",
    "***rating*** - Customer rating of the product from 1 to 10\n",
    "\n",
    "***repeat_purchase*** - Whether customers repeatedly buy the product                         (1) or not (0)\n"
   ]
  },
  {
   "cell_type": "markdown",
   "id": "1c435350",
   "metadata": {
    "papermill": {
     "duration": 0.011251,
     "end_time": "2023-07-24T18:12:16.431035",
     "exception": false,
     "start_time": "2023-07-24T18:12:16.419784",
     "status": "completed"
    },
    "tags": []
   },
   "source": [
    "### Research Questions\n",
    "\n",
    "1. State which category of the variable repeat purchases has the        most observations\n",
    "2. Describe the distribution of all of the sales.\n",
    "3. Describe the relationship between repeat purchases and sales. \n"
   ]
  },
  {
   "cell_type": "markdown",
   "id": "eec99c54",
   "metadata": {
    "papermill": {
     "duration": 0.011204,
     "end_time": "2023-07-24T18:12:16.453804",
     "exception": false,
     "start_time": "2023-07-24T18:12:16.442600",
     "status": "completed"
    },
    "tags": []
   },
   "source": [
    "## Data Wrangling"
   ]
  },
  {
   "cell_type": "code",
   "execution_count": 2,
   "id": "8f949608",
   "metadata": {
    "execution": {
     "iopub.execute_input": "2023-07-24T18:12:16.479838Z",
     "iopub.status.busy": "2023-07-24T18:12:16.478792Z",
     "iopub.status.idle": "2023-07-24T18:12:16.484182Z",
     "shell.execute_reply": "2023-07-24T18:12:16.483050Z"
    },
    "papermill": {
     "duration": 0.020735,
     "end_time": "2023-07-24T18:12:16.486552",
     "exception": false,
     "start_time": "2023-07-24T18:12:16.465817",
     "status": "completed"
    },
    "tags": []
   },
   "outputs": [],
   "source": [
    "#Importing Packages \n",
    "import numpy as np\n",
    "import pandas as pd\n",
    "import matplotlib.pyplot as plt"
   ]
  },
  {
   "cell_type": "code",
   "execution_count": 3,
   "id": "4188c7a3",
   "metadata": {
    "execution": {
     "iopub.execute_input": "2023-07-24T18:12:16.511887Z",
     "iopub.status.busy": "2023-07-24T18:12:16.511425Z",
     "iopub.status.idle": "2023-07-24T18:12:16.567675Z",
     "shell.execute_reply": "2023-07-24T18:12:16.566001Z"
    },
    "papermill": {
     "duration": 0.071833,
     "end_time": "2023-07-24T18:12:16.570205",
     "exception": false,
     "start_time": "2023-07-24T18:12:16.498372",
     "status": "completed"
    },
    "tags": []
   },
   "outputs": [
    {
     "name": "stdout",
     "output_type": "stream",
     "text": [
      "<class 'pandas.core.frame.DataFrame'>\n",
      "RangeIndex: 1500 entries, 0 to 1499\n",
      "Data columns (total 8 columns):\n",
      " #   Column           Non-Null Count  Dtype  \n",
      "---  ------           --------------  -----  \n",
      " 0   product_id       1500 non-null   int64  \n",
      " 1   category         1500 non-null   object \n",
      " 2   animal           1500 non-null   object \n",
      " 3   size             1500 non-null   object \n",
      " 4   price            1500 non-null   object \n",
      " 5   sales            1500 non-null   float64\n",
      " 6   rating           1350 non-null   float64\n",
      " 7   repeat_purchase  1500 non-null   int64  \n",
      "dtypes: float64(2), int64(2), object(4)\n",
      "memory usage: 93.9+ KB\n"
     ]
    }
   ],
   "source": [
    "#Loading dataset\n",
    "df = pd.read_csv('/kaggle/input/pet-supplies/pet_supplies_2212.csv')\n",
    "#checking for the data information\n",
    "df.info()"
   ]
  },
  {
   "cell_type": "code",
   "execution_count": 4,
   "id": "802a2056",
   "metadata": {
    "execution": {
     "iopub.execute_input": "2023-07-24T18:12:16.595478Z",
     "iopub.status.busy": "2023-07-24T18:12:16.595081Z",
     "iopub.status.idle": "2023-07-24T18:12:16.602814Z",
     "shell.execute_reply": "2023-07-24T18:12:16.601652Z"
    },
    "papermill": {
     "duration": 0.023182,
     "end_time": "2023-07-24T18:12:16.605137",
     "exception": false,
     "start_time": "2023-07-24T18:12:16.581955",
     "status": "completed"
    },
    "tags": []
   },
   "outputs": [
    {
     "data": {
      "text/plain": [
       "(1500, 8)"
      ]
     },
     "execution_count": 4,
     "metadata": {},
     "output_type": "execute_result"
    }
   ],
   "source": [
    "#check for shape\n",
    "df.shape\n"
   ]
  },
  {
   "cell_type": "code",
   "execution_count": 5,
   "id": "8b2429e3",
   "metadata": {
    "execution": {
     "iopub.execute_input": "2023-07-24T18:12:16.630592Z",
     "iopub.status.busy": "2023-07-24T18:12:16.630195Z",
     "iopub.status.idle": "2023-07-24T18:12:16.642015Z",
     "shell.execute_reply": "2023-07-24T18:12:16.640879Z"
    },
    "papermill": {
     "duration": 0.027164,
     "end_time": "2023-07-24T18:12:16.644172",
     "exception": false,
     "start_time": "2023-07-24T18:12:16.617008",
     "status": "completed"
    },
    "tags": []
   },
   "outputs": [
    {
     "data": {
      "text/plain": [
       "product_id         1500\n",
       "category              7\n",
       "animal                4\n",
       "size                  9\n",
       "price               707\n",
       "sales              1476\n",
       "rating                9\n",
       "repeat_purchase       2\n",
       "dtype: int64"
      ]
     },
     "execution_count": 5,
     "metadata": {},
     "output_type": "execute_result"
    }
   ],
   "source": [
    "#checking for unique characters\n",
    "df.nunique()"
   ]
  },
  {
   "cell_type": "code",
   "execution_count": 6,
   "id": "0b3556ba",
   "metadata": {
    "execution": {
     "iopub.execute_input": "2023-07-24T18:12:16.670121Z",
     "iopub.status.busy": "2023-07-24T18:12:16.669355Z",
     "iopub.status.idle": "2023-07-24T18:12:16.680488Z",
     "shell.execute_reply": "2023-07-24T18:12:16.679703Z"
    },
    "papermill": {
     "duration": 0.026289,
     "end_time": "2023-07-24T18:12:16.682514",
     "exception": false,
     "start_time": "2023-07-24T18:12:16.656225",
     "status": "completed"
    },
    "tags": []
   },
   "outputs": [
    {
     "data": {
      "text/plain": [
       "product_id           0\n",
       "category             0\n",
       "animal               0\n",
       "size                 0\n",
       "price                0\n",
       "sales                0\n",
       "rating             150\n",
       "repeat_purchase      0\n",
       "dtype: int64"
      ]
     },
     "execution_count": 6,
     "metadata": {},
     "output_type": "execute_result"
    }
   ],
   "source": [
    "#checking for missing values in the dataset\n",
    "df.isnull().sum()"
   ]
  },
  {
   "cell_type": "code",
   "execution_count": 7,
   "id": "35f99449",
   "metadata": {
    "execution": {
     "iopub.execute_input": "2023-07-24T18:12:16.709171Z",
     "iopub.status.busy": "2023-07-24T18:12:16.707909Z",
     "iopub.status.idle": "2023-07-24T18:12:16.728678Z",
     "shell.execute_reply": "2023-07-24T18:12:16.727538Z"
    },
    "papermill": {
     "duration": 0.036695,
     "end_time": "2023-07-24T18:12:16.731266",
     "exception": false,
     "start_time": "2023-07-24T18:12:16.694571",
     "status": "completed"
    },
    "tags": []
   },
   "outputs": [
    {
     "data": {
      "text/html": [
       "<div>\n",
       "<style scoped>\n",
       "    .dataframe tbody tr th:only-of-type {\n",
       "        vertical-align: middle;\n",
       "    }\n",
       "\n",
       "    .dataframe tbody tr th {\n",
       "        vertical-align: top;\n",
       "    }\n",
       "\n",
       "    .dataframe thead th {\n",
       "        text-align: right;\n",
       "    }\n",
       "</style>\n",
       "<table border=\"1\" class=\"dataframe\">\n",
       "  <thead>\n",
       "    <tr style=\"text-align: right;\">\n",
       "      <th></th>\n",
       "      <th>product_id</th>\n",
       "      <th>category</th>\n",
       "      <th>animal</th>\n",
       "      <th>size</th>\n",
       "      <th>price</th>\n",
       "      <th>sales</th>\n",
       "      <th>rating</th>\n",
       "      <th>repeat_purchase</th>\n",
       "    </tr>\n",
       "  </thead>\n",
       "  <tbody>\n",
       "    <tr>\n",
       "      <th>0</th>\n",
       "      <td>1</td>\n",
       "      <td>Food</td>\n",
       "      <td>Bird</td>\n",
       "      <td>large</td>\n",
       "      <td>51.1</td>\n",
       "      <td>1860.62</td>\n",
       "      <td>7.0</td>\n",
       "      <td>1</td>\n",
       "    </tr>\n",
       "    <tr>\n",
       "      <th>1</th>\n",
       "      <td>2</td>\n",
       "      <td>Housing</td>\n",
       "      <td>Bird</td>\n",
       "      <td>MEDIUM</td>\n",
       "      <td>35.98</td>\n",
       "      <td>963.60</td>\n",
       "      <td>6.0</td>\n",
       "      <td>0</td>\n",
       "    </tr>\n",
       "    <tr>\n",
       "      <th>2</th>\n",
       "      <td>3</td>\n",
       "      <td>Food</td>\n",
       "      <td>Dog</td>\n",
       "      <td>medium</td>\n",
       "      <td>31.23</td>\n",
       "      <td>898.30</td>\n",
       "      <td>5.0</td>\n",
       "      <td>1</td>\n",
       "    </tr>\n",
       "    <tr>\n",
       "      <th>3</th>\n",
       "      <td>4</td>\n",
       "      <td>Medicine</td>\n",
       "      <td>Cat</td>\n",
       "      <td>small</td>\n",
       "      <td>24.95</td>\n",
       "      <td>982.15</td>\n",
       "      <td>6.0</td>\n",
       "      <td>1</td>\n",
       "    </tr>\n",
       "    <tr>\n",
       "      <th>4</th>\n",
       "      <td>5</td>\n",
       "      <td>Housing</td>\n",
       "      <td>Cat</td>\n",
       "      <td>Small</td>\n",
       "      <td>26.18</td>\n",
       "      <td>832.63</td>\n",
       "      <td>7.0</td>\n",
       "      <td>1</td>\n",
       "    </tr>\n",
       "  </tbody>\n",
       "</table>\n",
       "</div>"
      ],
      "text/plain": [
       "   product_id  category animal    size  price    sales  rating  \\\n",
       "0           1      Food   Bird   large   51.1  1860.62     7.0   \n",
       "1           2   Housing   Bird  MEDIUM  35.98   963.60     6.0   \n",
       "2           3      Food    Dog  medium  31.23   898.30     5.0   \n",
       "3           4  Medicine    Cat   small  24.95   982.15     6.0   \n",
       "4           5   Housing    Cat   Small  26.18   832.63     7.0   \n",
       "\n",
       "   repeat_purchase  \n",
       "0                1  \n",
       "1                0  \n",
       "2                1  \n",
       "3                1  \n",
       "4                1  "
      ]
     },
     "execution_count": 7,
     "metadata": {},
     "output_type": "execute_result"
    }
   ],
   "source": [
    "#Data sample\n",
    "df.head()"
   ]
  },
  {
   "cell_type": "code",
   "execution_count": 8,
   "id": "4619ed90",
   "metadata": {
    "execution": {
     "iopub.execute_input": "2023-07-24T18:12:16.757916Z",
     "iopub.status.busy": "2023-07-24T18:12:16.757531Z",
     "iopub.status.idle": "2023-07-24T18:12:16.784624Z",
     "shell.execute_reply": "2023-07-24T18:12:16.783527Z"
    },
    "papermill": {
     "duration": 0.043342,
     "end_time": "2023-07-24T18:12:16.787186",
     "exception": false,
     "start_time": "2023-07-24T18:12:16.743844",
     "status": "completed"
    },
    "tags": []
   },
   "outputs": [
    {
     "data": {
      "text/html": [
       "<div>\n",
       "<style scoped>\n",
       "    .dataframe tbody tr th:only-of-type {\n",
       "        vertical-align: middle;\n",
       "    }\n",
       "\n",
       "    .dataframe tbody tr th {\n",
       "        vertical-align: top;\n",
       "    }\n",
       "\n",
       "    .dataframe thead th {\n",
       "        text-align: right;\n",
       "    }\n",
       "</style>\n",
       "<table border=\"1\" class=\"dataframe\">\n",
       "  <thead>\n",
       "    <tr style=\"text-align: right;\">\n",
       "      <th></th>\n",
       "      <th>product_id</th>\n",
       "      <th>sales</th>\n",
       "      <th>rating</th>\n",
       "      <th>repeat_purchase</th>\n",
       "    </tr>\n",
       "  </thead>\n",
       "  <tbody>\n",
       "    <tr>\n",
       "      <th>count</th>\n",
       "      <td>1500.000000</td>\n",
       "      <td>1500.000000</td>\n",
       "      <td>1350.000000</td>\n",
       "      <td>1500.000000</td>\n",
       "    </tr>\n",
       "    <tr>\n",
       "      <th>mean</th>\n",
       "      <td>750.500000</td>\n",
       "      <td>996.597847</td>\n",
       "      <td>4.991111</td>\n",
       "      <td>0.604000</td>\n",
       "    </tr>\n",
       "    <tr>\n",
       "      <th>std</th>\n",
       "      <td>433.157015</td>\n",
       "      <td>323.952676</td>\n",
       "      <td>1.559755</td>\n",
       "      <td>0.489228</td>\n",
       "    </tr>\n",
       "    <tr>\n",
       "      <th>min</th>\n",
       "      <td>1.000000</td>\n",
       "      <td>286.940000</td>\n",
       "      <td>1.000000</td>\n",
       "      <td>0.000000</td>\n",
       "    </tr>\n",
       "    <tr>\n",
       "      <th>25%</th>\n",
       "      <td>375.750000</td>\n",
       "      <td>747.420000</td>\n",
       "      <td>4.000000</td>\n",
       "      <td>0.000000</td>\n",
       "    </tr>\n",
       "    <tr>\n",
       "      <th>50%</th>\n",
       "      <td>750.500000</td>\n",
       "      <td>1000.830000</td>\n",
       "      <td>5.000000</td>\n",
       "      <td>1.000000</td>\n",
       "    </tr>\n",
       "    <tr>\n",
       "      <th>75%</th>\n",
       "      <td>1125.250000</td>\n",
       "      <td>1158.157500</td>\n",
       "      <td>6.000000</td>\n",
       "      <td>1.000000</td>\n",
       "    </tr>\n",
       "    <tr>\n",
       "      <th>max</th>\n",
       "      <td>1500.000000</td>\n",
       "      <td>2255.960000</td>\n",
       "      <td>9.000000</td>\n",
       "      <td>1.000000</td>\n",
       "    </tr>\n",
       "  </tbody>\n",
       "</table>\n",
       "</div>"
      ],
      "text/plain": [
       "        product_id        sales       rating  repeat_purchase\n",
       "count  1500.000000  1500.000000  1350.000000      1500.000000\n",
       "mean    750.500000   996.597847     4.991111         0.604000\n",
       "std     433.157015   323.952676     1.559755         0.489228\n",
       "min       1.000000   286.940000     1.000000         0.000000\n",
       "25%     375.750000   747.420000     4.000000         0.000000\n",
       "50%     750.500000  1000.830000     5.000000         1.000000\n",
       "75%    1125.250000  1158.157500     6.000000         1.000000\n",
       "max    1500.000000  2255.960000     9.000000         1.000000"
      ]
     },
     "execution_count": 8,
     "metadata": {},
     "output_type": "execute_result"
    }
   ],
   "source": [
    "#Descirption of the dataset\n",
    "df.describe()"
   ]
  },
  {
   "cell_type": "markdown",
   "id": "8aad63f8",
   "metadata": {
    "papermill": {
     "duration": 0.012332,
     "end_time": "2023-07-24T18:12:16.812279",
     "exception": false,
     "start_time": "2023-07-24T18:12:16.799947",
     "status": "completed"
    },
    "tags": []
   },
   "source": [
    "### Data Cleaning"
   ]
  },
  {
   "cell_type": "code",
   "execution_count": 9,
   "id": "dd6d4d9d",
   "metadata": {
    "execution": {
     "iopub.execute_input": "2023-07-24T18:12:16.839516Z",
     "iopub.status.busy": "2023-07-24T18:12:16.839112Z",
     "iopub.status.idle": "2023-07-24T18:12:16.846938Z",
     "shell.execute_reply": "2023-07-24T18:12:16.845832Z"
    },
    "papermill": {
     "duration": 0.024348,
     "end_time": "2023-07-24T18:12:16.849227",
     "exception": false,
     "start_time": "2023-07-24T18:12:16.824879",
     "status": "completed"
    },
    "tags": []
   },
   "outputs": [
    {
     "data": {
      "text/plain": [
       "array(['Food', 'Housing', 'Medicine', 'Toys', 'Equipment', 'Accessory',\n",
       "       '-'], dtype=object)"
      ]
     },
     "execution_count": 9,
     "metadata": {},
     "output_type": "execute_result"
    }
   ],
   "source": [
    "#checking for unique values in the category column\n",
    "df['category'].unique()"
   ]
  },
  {
   "cell_type": "code",
   "execution_count": 10,
   "id": "87818040",
   "metadata": {
    "execution": {
     "iopub.execute_input": "2023-07-24T18:12:16.876886Z",
     "iopub.status.busy": "2023-07-24T18:12:16.876497Z",
     "iopub.status.idle": "2023-07-24T18:12:16.882989Z",
     "shell.execute_reply": "2023-07-24T18:12:16.882067Z"
    },
    "papermill": {
     "duration": 0.022966,
     "end_time": "2023-07-24T18:12:16.885051",
     "exception": false,
     "start_time": "2023-07-24T18:12:16.862085",
     "status": "completed"
    },
    "tags": []
   },
   "outputs": [],
   "source": [
    "#Replacing '-' with 'unknown' in the category column\n",
    "df['category'] = df['category'].replace(['-'], 'unknown')"
   ]
  },
  {
   "cell_type": "code",
   "execution_count": 11,
   "id": "d960ca09",
   "metadata": {
    "execution": {
     "iopub.execute_input": "2023-07-24T18:12:16.912542Z",
     "iopub.status.busy": "2023-07-24T18:12:16.912144Z",
     "iopub.status.idle": "2023-07-24T18:12:16.918260Z",
     "shell.execute_reply": "2023-07-24T18:12:16.917550Z"
    },
    "papermill": {
     "duration": 0.022179,
     "end_time": "2023-07-24T18:12:16.920212",
     "exception": false,
     "start_time": "2023-07-24T18:12:16.898033",
     "status": "completed"
    },
    "tags": []
   },
   "outputs": [
    {
     "data": {
      "text/plain": [
       "array(['Food', 'Housing', 'Medicine', 'Toys', 'Equipment', 'Accessory',\n",
       "       'unknown'], dtype=object)"
      ]
     },
     "execution_count": 11,
     "metadata": {},
     "output_type": "execute_result"
    }
   ],
   "source": [
    "#checking to effect change\n",
    "df['category'].unique()"
   ]
  },
  {
   "cell_type": "code",
   "execution_count": 12,
   "id": "33a15d2b",
   "metadata": {
    "execution": {
     "iopub.execute_input": "2023-07-24T18:12:16.948284Z",
     "iopub.status.busy": "2023-07-24T18:12:16.947542Z",
     "iopub.status.idle": "2023-07-24T18:12:16.953886Z",
     "shell.execute_reply": "2023-07-24T18:12:16.953142Z"
    },
    "papermill": {
     "duration": 0.022683,
     "end_time": "2023-07-24T18:12:16.955894",
     "exception": false,
     "start_time": "2023-07-24T18:12:16.933211",
     "status": "completed"
    },
    "tags": []
   },
   "outputs": [
    {
     "data": {
      "text/plain": [
       "array(['large', 'MEDIUM', 'medium', 'small', 'Small', 'Large', 'SMALL',\n",
       "       'Medium', 'LARGE'], dtype=object)"
      ]
     },
     "execution_count": 12,
     "metadata": {},
     "output_type": "execute_result"
    }
   ],
   "source": [
    "#checking for unique values in the size column\n",
    "df['size'].unique()"
   ]
  },
  {
   "cell_type": "code",
   "execution_count": 13,
   "id": "80cc4ad4",
   "metadata": {
    "execution": {
     "iopub.execute_input": "2023-07-24T18:12:16.984165Z",
     "iopub.status.busy": "2023-07-24T18:12:16.983685Z",
     "iopub.status.idle": "2023-07-24T18:12:16.990755Z",
     "shell.execute_reply": "2023-07-24T18:12:16.989691Z"
    },
    "papermill": {
     "duration": 0.02388,
     "end_time": "2023-07-24T18:12:16.992925",
     "exception": false,
     "start_time": "2023-07-24T18:12:16.969045",
     "status": "completed"
    },
    "tags": []
   },
   "outputs": [],
   "source": [
    "#Changing all data in size column to lowercase\n",
    "df['size'] = df['size'].str.lower()"
   ]
  },
  {
   "cell_type": "code",
   "execution_count": 14,
   "id": "d3e94851",
   "metadata": {
    "execution": {
     "iopub.execute_input": "2023-07-24T18:12:17.021299Z",
     "iopub.status.busy": "2023-07-24T18:12:17.020539Z",
     "iopub.status.idle": "2023-07-24T18:12:17.028203Z",
     "shell.execute_reply": "2023-07-24T18:12:17.027209Z"
    },
    "papermill": {
     "duration": 0.023993,
     "end_time": "2023-07-24T18:12:17.030290",
     "exception": false,
     "start_time": "2023-07-24T18:12:17.006297",
     "status": "completed"
    },
    "tags": []
   },
   "outputs": [
    {
     "data": {
      "text/plain": [
       "array(['large', 'medium', 'small'], dtype=object)"
      ]
     },
     "execution_count": 14,
     "metadata": {},
     "output_type": "execute_result"
    }
   ],
   "source": [
    "#checking to effect change\n",
    "df['size'].unique()"
   ]
  },
  {
   "cell_type": "code",
   "execution_count": 15,
   "id": "2b517ceb",
   "metadata": {
    "execution": {
     "iopub.execute_input": "2023-07-24T18:12:17.058810Z",
     "iopub.status.busy": "2023-07-24T18:12:17.057987Z",
     "iopub.status.idle": "2023-07-24T18:12:17.066055Z",
     "shell.execute_reply": "2023-07-24T18:12:17.065286Z"
    },
    "papermill": {
     "duration": 0.024635,
     "end_time": "2023-07-24T18:12:17.068071",
     "exception": false,
     "start_time": "2023-07-24T18:12:17.043436",
     "status": "completed"
    },
    "tags": []
   },
   "outputs": [
    {
     "data": {
      "text/plain": [
       "824     30.98\n",
       "1214    19.78\n",
       "1205    29.06\n",
       "1387    32.82\n",
       "794     31.06\n",
       "1418    31.13\n",
       "553     22.97\n",
       "1010    20.02\n",
       "810     40.92\n",
       "148     27.77\n",
       "Name: price, dtype: object"
      ]
     },
     "execution_count": 15,
     "metadata": {},
     "output_type": "execute_result"
    }
   ],
   "source": [
    "#Sampling the price column\n",
    "df['price'].sample(10)"
   ]
  },
  {
   "cell_type": "code",
   "execution_count": 16,
   "id": "620a07e0",
   "metadata": {
    "execution": {
     "iopub.execute_input": "2023-07-24T18:12:17.097538Z",
     "iopub.status.busy": "2023-07-24T18:12:17.096226Z",
     "iopub.status.idle": "2023-07-24T18:12:17.102643Z",
     "shell.execute_reply": "2023-07-24T18:12:17.101817Z"
    },
    "papermill": {
     "duration": 0.023305,
     "end_time": "2023-07-24T18:12:17.104819",
     "exception": false,
     "start_time": "2023-07-24T18:12:17.081514",
     "status": "completed"
    },
    "tags": []
   },
   "outputs": [],
   "source": [
    "#Replacing 'unlisted' str with '0' int\n",
    "df['price'] = df['price'].replace(['unlisted'], '0')"
   ]
  },
  {
   "cell_type": "code",
   "execution_count": 17,
   "id": "b14443f4",
   "metadata": {
    "execution": {
     "iopub.execute_input": "2023-07-24T18:12:17.134512Z",
     "iopub.status.busy": "2023-07-24T18:12:17.134102Z",
     "iopub.status.idle": "2023-07-24T18:12:17.142217Z",
     "shell.execute_reply": "2023-07-24T18:12:17.141238Z"
    },
    "papermill": {
     "duration": 0.024972,
     "end_time": "2023-07-24T18:12:17.144321",
     "exception": false,
     "start_time": "2023-07-24T18:12:17.119349",
     "status": "completed"
    },
    "tags": []
   },
   "outputs": [
    {
     "data": {
      "text/plain": [
       "27.93"
      ]
     },
     "execution_count": 17,
     "metadata": {},
     "output_type": "execute_result"
    }
   ],
   "source": [
    "#calculating the median of the price column\n",
    "df['price'].median()"
   ]
  },
  {
   "cell_type": "code",
   "execution_count": 18,
   "id": "9b464cd1",
   "metadata": {
    "execution": {
     "iopub.execute_input": "2023-07-24T18:12:17.173425Z",
     "iopub.status.busy": "2023-07-24T18:12:17.172619Z",
     "iopub.status.idle": "2023-07-24T18:12:17.179752Z",
     "shell.execute_reply": "2023-07-24T18:12:17.178627Z"
    },
    "papermill": {
     "duration": 0.024404,
     "end_time": "2023-07-24T18:12:17.182272",
     "exception": false,
     "start_time": "2023-07-24T18:12:17.157868",
     "status": "completed"
    },
    "tags": []
   },
   "outputs": [],
   "source": [
    "#Replacing '0' with the median 27.93\n",
    "df['price'] = df['price'].replace(['0'], 27.93)"
   ]
  },
  {
   "cell_type": "code",
   "execution_count": 19,
   "id": "f0978145",
   "metadata": {
    "execution": {
     "iopub.execute_input": "2023-07-24T18:12:17.211210Z",
     "iopub.status.busy": "2023-07-24T18:12:17.210804Z",
     "iopub.status.idle": "2023-07-24T18:12:17.219347Z",
     "shell.execute_reply": "2023-07-24T18:12:17.218266Z"
    },
    "papermill": {
     "duration": 0.025673,
     "end_time": "2023-07-24T18:12:17.221530",
     "exception": false,
     "start_time": "2023-07-24T18:12:17.195857",
     "status": "completed"
    },
    "tags": []
   },
   "outputs": [
    {
     "data": {
      "text/plain": [
       "1451    22.92\n",
       "1025    30.98\n",
       "699     36.21\n",
       "372     18.12\n",
       "604      28.1\n",
       "349     30.73\n",
       "1243    31.03\n",
       "367     30.89\n",
       "993     28.24\n",
       "612     30.08\n",
       "Name: price, dtype: object"
      ]
     },
     "execution_count": 19,
     "metadata": {},
     "output_type": "execute_result"
    }
   ],
   "source": [
    "#checking to effect change\n",
    "df['price'].sample(10)"
   ]
  },
  {
   "cell_type": "code",
   "execution_count": 20,
   "id": "adf34c6b",
   "metadata": {
    "execution": {
     "iopub.execute_input": "2023-07-24T18:12:17.251041Z",
     "iopub.status.busy": "2023-07-24T18:12:17.250594Z",
     "iopub.status.idle": "2023-07-24T18:12:17.259808Z",
     "shell.execute_reply": "2023-07-24T18:12:17.258687Z"
    },
    "papermill": {
     "duration": 0.026753,
     "end_time": "2023-07-24T18:12:17.262165",
     "exception": false,
     "start_time": "2023-07-24T18:12:17.235412",
     "status": "completed"
    },
    "tags": []
   },
   "outputs": [
    {
     "data": {
      "text/plain": [
       "1487     663.56\n",
       "1073    1346.37\n",
       "1195     991.31\n",
       "800      742.48\n",
       "1315     743.94\n",
       "940     1488.93\n",
       "431     1062.62\n",
       "725      822.82\n",
       "878      538.59\n",
       "362      700.94\n",
       "Name: sales, dtype: float64"
      ]
     },
     "execution_count": 20,
     "metadata": {},
     "output_type": "execute_result"
    }
   ],
   "source": [
    "#Sampling Sales Column\n",
    "df['sales'].sample(10)"
   ]
  },
  {
   "cell_type": "code",
   "execution_count": 21,
   "id": "950aa362",
   "metadata": {
    "execution": {
     "iopub.execute_input": "2023-07-24T18:12:17.292453Z",
     "iopub.status.busy": "2023-07-24T18:12:17.291639Z",
     "iopub.status.idle": "2023-07-24T18:12:17.298575Z",
     "shell.execute_reply": "2023-07-24T18:12:17.297795Z"
    },
    "papermill": {
     "duration": 0.024394,
     "end_time": "2023-07-24T18:12:17.300608",
     "exception": false,
     "start_time": "2023-07-24T18:12:17.276214",
     "status": "completed"
    },
    "tags": []
   },
   "outputs": [
    {
     "data": {
      "text/plain": [
       "array([ 7.,  6.,  5.,  4.,  8.,  1.,  3., nan,  2.,  9.])"
      ]
     },
     "execution_count": 21,
     "metadata": {},
     "output_type": "execute_result"
    }
   ],
   "source": [
    "#Checking for unique characters in the rating column\n",
    "df['rating'].unique()"
   ]
  },
  {
   "cell_type": "code",
   "execution_count": 22,
   "id": "c160cdac",
   "metadata": {
    "execution": {
     "iopub.execute_input": "2023-07-24T18:12:17.330956Z",
     "iopub.status.busy": "2023-07-24T18:12:17.330294Z",
     "iopub.status.idle": "2023-07-24T18:12:17.335553Z",
     "shell.execute_reply": "2023-07-24T18:12:17.334505Z"
    },
    "papermill": {
     "duration": 0.023105,
     "end_time": "2023-07-24T18:12:17.337656",
     "exception": false,
     "start_time": "2023-07-24T18:12:17.314551",
     "status": "completed"
    },
    "tags": []
   },
   "outputs": [],
   "source": [
    "#Replacing Missing values(Nan) with 0\n",
    "df['rating'] = df['rating'].fillna(0)"
   ]
  },
  {
   "cell_type": "code",
   "execution_count": 23,
   "id": "d8848442",
   "metadata": {
    "execution": {
     "iopub.execute_input": "2023-07-24T18:12:17.367329Z",
     "iopub.status.busy": "2023-07-24T18:12:17.366885Z",
     "iopub.status.idle": "2023-07-24T18:12:17.374181Z",
     "shell.execute_reply": "2023-07-24T18:12:17.373367Z"
    },
    "papermill": {
     "duration": 0.024448,
     "end_time": "2023-07-24T18:12:17.376166",
     "exception": false,
     "start_time": "2023-07-24T18:12:17.351718",
     "status": "completed"
    },
    "tags": []
   },
   "outputs": [
    {
     "data": {
      "text/plain": [
       "array([7., 6., 5., 4., 8., 1., 3., 0., 2., 9.])"
      ]
     },
     "execution_count": 23,
     "metadata": {},
     "output_type": "execute_result"
    }
   ],
   "source": [
    "#Checking to Effect Change\n",
    "df['rating'].unique()"
   ]
  },
  {
   "cell_type": "markdown",
   "id": "0c60559c",
   "metadata": {
    "papermill": {
     "duration": 0.013774,
     "end_time": "2023-07-24T18:12:17.404053",
     "exception": false,
     "start_time": "2023-07-24T18:12:17.390279",
     "status": "completed"
    },
    "tags": []
   },
   "source": [
    "## Exploratory Data Analysis"
   ]
  },
  {
   "cell_type": "markdown",
   "id": "9eac9678",
   "metadata": {
    "papermill": {
     "duration": 0.014124,
     "end_time": "2023-07-24T18:12:17.432604",
     "exception": false,
     "start_time": "2023-07-24T18:12:17.418480",
     "status": "completed"
    },
    "tags": []
   },
   "source": [
    "#### Research Question 1: State which category of the variable repeat purchases has the most observations"
   ]
  },
  {
   "cell_type": "code",
   "execution_count": 24,
   "id": "dccf8ec2",
   "metadata": {
    "execution": {
     "iopub.execute_input": "2023-07-24T18:12:17.462739Z",
     "iopub.status.busy": "2023-07-24T18:12:17.462089Z",
     "iopub.status.idle": "2023-07-24T18:12:17.470107Z",
     "shell.execute_reply": "2023-07-24T18:12:17.469363Z"
    },
    "papermill": {
     "duration": 0.025384,
     "end_time": "2023-07-24T18:12:17.472164",
     "exception": false,
     "start_time": "2023-07-24T18:12:17.446780",
     "status": "completed"
    },
    "tags": []
   },
   "outputs": [
    {
     "data": {
      "text/plain": [
       "1    906\n",
       "0    594\n",
       "Name: repeat_purchase, dtype: int64"
      ]
     },
     "execution_count": 24,
     "metadata": {},
     "output_type": "execute_result"
    }
   ],
   "source": [
    "df['repeat_purchase'].value_counts()"
   ]
  },
  {
   "cell_type": "code",
   "execution_count": 25,
   "id": "f0f967b2",
   "metadata": {
    "execution": {
     "iopub.execute_input": "2023-07-24T18:12:17.503128Z",
     "iopub.status.busy": "2023-07-24T18:12:17.502408Z",
     "iopub.status.idle": "2023-07-24T18:12:17.822593Z",
     "shell.execute_reply": "2023-07-24T18:12:17.821432Z"
    },
    "papermill": {
     "duration": 0.33843,
     "end_time": "2023-07-24T18:12:17.825178",
     "exception": false,
     "start_time": "2023-07-24T18:12:17.486748",
     "status": "completed"
    },
    "tags": []
   },
   "outputs": [
    {
     "data": {
      "text/plain": [
       "Text(0, 0.5, 'Count')"
      ]
     },
     "execution_count": 25,
     "metadata": {},
     "output_type": "execute_result"
    },
    {
     "data": {
      "image/png": "[encoded data removed]",
      "text/plain": [
       "<Figure size 640x480 with 1 Axes>"
      ]
     },
     "metadata": {},
     "output_type": "display_data"
    }
   ],
   "source": [
    "x_axis = ['repeat purchase', 'single purchase']\n",
    "df['repeat_purchase'].value_counts().plot(y='Purchase Count', kind='bar', title='Counts of Repeated Purchase');\n",
    "plt.xlabel('Repeat Purchase')\n",
    "plt.ylabel('Count')"
   ]
  },
  {
   "cell_type": "markdown",
   "id": "46e0bf54",
   "metadata": {
    "papermill": {
     "duration": 0.014565,
     "end_time": "2023-07-24T18:12:17.854842",
     "exception": false,
     "start_time": "2023-07-24T18:12:17.840277",
     "status": "completed"
    },
    "tags": []
   },
   "source": [
    "There are two types of variable included in the data type. Whether customers repeatedly buy a product (1) or not (0). From the Bar chat we can deduce that repeated buy (1) is the most common with a count of 906 and single purchasse (0) with a count of 594.The categories are unbalanced. The team should focus on more on repeated buy since they are more common."
   ]
  },
  {
   "cell_type": "markdown",
   "id": "f2ddf8a9",
   "metadata": {
    "papermill": {
     "duration": 0.014424,
     "end_time": "2023-07-24T18:12:17.884065",
     "exception": false,
     "start_time": "2023-07-24T18:12:17.869641",
     "status": "completed"
    },
    "tags": []
   },
   "source": [
    "#### Research Question 2: Describe the distribution of all of the sales."
   ]
  },
  {
   "cell_type": "code",
   "execution_count": 26,
   "id": "1ecad604",
   "metadata": {
    "execution": {
     "iopub.execute_input": "2023-07-24T18:12:17.917188Z",
     "iopub.status.busy": "2023-07-24T18:12:17.915967Z",
     "iopub.status.idle": "2023-07-24T18:12:18.476351Z",
     "shell.execute_reply": "2023-07-24T18:12:18.475065Z"
    },
    "papermill": {
     "duration": 0.579588,
     "end_time": "2023-07-24T18:12:18.479053",
     "exception": false,
     "start_time": "2023-07-24T18:12:17.899465",
     "status": "completed"
    },
    "tags": []
   },
   "outputs": [
    {
     "data": {
      "text/plain": [
       "Text(0, 0.5, 'Counts')"
      ]
     },
     "execution_count": 26,
     "metadata": {},
     "output_type": "execute_result"
    },
    {
     "data": {
      "image/png": "[encoded data removed]",
      "text/plain": [
       "<Figure size 1500x1500 with 1 Axes>"
      ]
     },
     "metadata": {},
     "output_type": "display_data"
    }
   ],
   "source": [
    "df['sales'].hist(figsize=(15,15))\n",
    "plt.title('The Distribution of Sales', fontsize=30);\n",
    "plt.xlabel('Sales', fontsize=20)\n",
    "plt.ylabel('Counts', fontsize=20)"
   ]
  },
  {
   "cell_type": "markdown",
   "id": "c21b5c8b",
   "metadata": {
    "papermill": {
     "duration": 0.015773,
     "end_time": "2023-07-24T18:12:18.510538",
     "exception": false,
     "start_time": "2023-07-24T18:12:18.494765",
     "status": "completed"
    },
    "tags": []
   },
   "source": [
    "From the histogram above, we can see that the distribution is right skewed. The graph also shows concentration of sales between 700 and 1050. This shows that customers spends more between the range of 700 to 1050. The team should focus on products within this sales ranges for more purchase. Sales above 1300 showed a very low turnout."
   ]
  },
  {
   "cell_type": "markdown",
   "id": "a186a884",
   "metadata": {
    "papermill": {
     "duration": 0.015509,
     "end_time": "2023-07-24T18:12:18.541802",
     "exception": false,
     "start_time": "2023-07-24T18:12:18.526293",
     "status": "completed"
    },
    "tags": []
   },
   "source": [
    "#### Research Question 3: Describe the relationship between repeat purchases and sales. "
   ]
  },
  {
   "cell_type": "code",
   "execution_count": 27,
   "id": "d220ea34",
   "metadata": {
    "execution": {
     "iopub.execute_input": "2023-07-24T18:12:18.574891Z",
     "iopub.status.busy": "2023-07-24T18:12:18.574487Z",
     "iopub.status.idle": "2023-07-24T18:12:18.914598Z",
     "shell.execute_reply": "2023-07-24T18:12:18.913365Z"
    },
    "papermill": {
     "duration": 0.359764,
     "end_time": "2023-07-24T18:12:18.917265",
     "exception": false,
     "start_time": "2023-07-24T18:12:18.557501",
     "status": "completed"
    },
    "tags": []
   },
   "outputs": [
    {
     "data": {
      "text/plain": [
       "Text(0, 0.5, 'Sales')"
      ]
     },
     "execution_count": 27,
     "metadata": {},
     "output_type": "execute_result"
    },
    {
     "data": {
      "image/png": "[encoded data removed]",
      "text/plain": [
       "<Figure size 640x480 with 1 Axes>"
      ]
     },
     "metadata": {},
     "output_type": "display_data"
    }
   ],
   "source": [
    "df.boxplot(by ='repeat_purchase', column =['sales'], grid = True)\n",
    "plt.xlabel('repeat_Purchase', fontsize=10)\n",
    "plt.ylabel('Sales', fontsize=10)"
   ]
  },
  {
   "cell_type": "markdown",
   "id": "17a49972",
   "metadata": {
    "papermill": {
     "duration": 0.016033,
     "end_time": "2023-07-24T18:12:18.949668",
     "exception": false,
     "start_time": "2023-07-24T18:12:18.933635",
     "status": "completed"
    },
    "tags": []
   },
   "source": [
    "Finally, We want to take a look at the relationship between Sales and Repeated purchase to see what influence the repeat purchas has on the sales. From the boxplot above we can deduct several information. Both repeat buy(1) and single buy(0) have several outliers with repeat purchase having more outliers. The single buy(0) covers a wider sales range and have a higher interquartile compared to repeat buy(1). Both have 50% sales between 700 and 1200."
   ]
  }
 ],
 "metadata": {
  "kernelspec": {
   "display_name": "Python 3",
   "language": "python",
   "name": "python3"
  },
  "language_info": {
   "codemirror_mode": {
    "name": "ipython",
    "version": 3
   },
   "file_extension": ".py",
   "mimetype": "text/x-python",
   "name": "python",
   "nbconvert_exporter": "python",
   "pygments_lexer": "ipython3",
   "version": "3.10.12"
  },
  "papermill": {
   "default_parameters": {},
   "duration": 15.460607,
   "end_time": "2023-07-24T18:12:19.989820",
   "environment_variables": {},
   "exception": null,
   "input_path": "__notebook__.ipynb",
   "output_path": "__notebook__.ipynb",
   "parameters": {},
   "start_time": "2023-07-24T18:12:04.529213",
   "version": "2.4.0"
  }
 },
 "nbformat": 4,
 "nbformat_minor": 5
}
